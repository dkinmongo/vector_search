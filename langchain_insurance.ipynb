{
 "cells": [
  {
   "cell_type": "code",
   "execution_count": 2,
   "id": "c852a4a2",
   "metadata": {},
   "outputs": [
    {
     "name": "stdout",
     "output_type": "stream",
     "text": [
      "Collecting pypdf\n",
      "  Downloading pypdf-3.14.0-py3-none-any.whl (269 kB)\n",
      "\u001b[2K     \u001b[38;2;114;156;31m━━━━━━━━━━━━━━━━━━━━━━━━━━━━━━━━━━━━━━━\u001b[0m \u001b[32m269.8/269.8 kB\u001b[0m \u001b[31m3.7 MB/s\u001b[0m eta \u001b[36m0:00:00\u001b[0m MB/s\u001b[0m eta \u001b[36m0:00:01\u001b[0m\n",
      "\u001b[?25hRequirement already satisfied: typing_extensions>=3.10.0.0 in /opt/anaconda3/lib/python3.9/site-packages (from pypdf) (4.3.0)\n",
      "Installing collected packages: pypdf\n",
      "Successfully installed pypdf-3.14.0\n"
     ]
    }
   ],
   "source": [
    "!pip install pypdf"
   ]
  },
  {
   "cell_type": "code",
   "execution_count": 19,
   "id": "329e967d",
   "metadata": {},
   "outputs": [],
   "source": [
    "from langchain.document_loaders import PyPDFLoader\n",
    " \n",
    "loader = PyPDFLoader(\"./samsunginsurance.pdf\")\n",
    "data = loader.load_and_split()"
   ]
  },
  {
   "cell_type": "code",
   "execution_count": 20,
   "id": "d40d1491",
   "metadata": {},
   "outputs": [],
   "source": [
    "from langchain.text_splitter import RecursiveCharacterTextSplitter\n",
    "text_splitter = RecursiveCharacterTextSplitter(chunk_size=1000, chunk_overlap=0, separators=[\n",
    "                                               \"\\n\\n\", \"\\n\", \"(?<=\\. )\", \" \"], length_function=len)\n",
    "docs = text_splitter.split_documents(data)"
   ]
  },
  {
   "cell_type": "code",
   "execution_count": 21,
   "id": "9131df01",
   "metadata": {},
   "outputs": [],
   "source": [
    "import os\n",
    "# bring your own OPENAI API KEY\n",
    "os.environ[\"OPENAI_API_KEY\"] = \"<openapi_api_key>\"\n",
    "\n",
    "from langchain.embeddings.openai import OpenAIEmbeddings\n",
    "embeddings = OpenAIEmbeddings(model_name='gpt-3.5-turbo')"
   ]
  },
  {
   "cell_type": "code",
   "execution_count": 22,
   "id": "3a40df37",
   "metadata": {},
   "outputs": [],
   "source": [
    "from pymongo import MongoClient\n",
    "from langchain.vectorstores import MongoDBAtlasVectorSearch\n",
    "\n",
    "mongodb_connectionstring=\"<connection string>\"\n",
    "mongodb_dbname=\"test\"\n",
    "mongodb_collname=\"langchain_insurance\"\n",
    "mongodb_indexname=\"langchain_insurance\"\n",
    "\n",
    "client = MongoClient(mongodb_connectionstring)\n",
    "collection = client[mongodb_dbname][mongodb_collname]\n",
    "\n",
    "# Insert the documents in MongoDB Atlas with their embedding\n",
    "docsearch = MongoDBAtlasVectorSearch.from_documents(\n",
    "    docs, embeddings, collection=collection, index_name=mongodb_indexname\n",
    ")"
   ]
  },
  {
   "cell_type": "markdown",
   "id": "20b4453c",
   "metadata": {},
   "source": [
    "## index build\n",
    "\n",
    "mongodb_indexname=\"langchain_insurance\"\n",
    "\n",
    "```bash\n",
    "{\n",
    "  \"mappings\": {\n",
    "    \"dynamic\": true,\n",
    "    \"fields\": {\n",
    "      \"embedding\": {\n",
    "        \"type\": \"knnVector\",\n",
    "        \"dimensions\": 1536,\n",
    "        \"similarity\": \"cosine\"\n",
    "      }\n",
    "    }\n",
    "  }\n",
    "}\n",
    "```"
   ]
  },
  {
   "cell_type": "code",
   "execution_count": 45,
   "id": "5acb425c",
   "metadata": {},
   "outputs": [],
   "source": [
    "from pymongo import MongoClient\n",
    "from langchain.vectorstores import MongoDBAtlasVectorSearch\n",
    "from langchain.embeddings.openai import OpenAIEmbeddings\n",
    "from langchain.llms import OpenAI\n",
    "from langchain.chat_models import ChatOpenAI\n",
    "from langchain.chains import RetrievalQAWithSourcesChain\n",
    "from langchain.retrievers import ContextualCompressionRetriever\n",
    "from langchain.retrievers.document_compressors import LLMChainExtractor\n",
    "\n",
    "client = MongoClient(mongodb_connectionstring)\n",
    "collection = client[mongodb_dbname][mongodb_collname]\n",
    "\n",
    "vectorStore = MongoDBAtlasVectorSearch(\n",
    "    collection, OpenAIEmbeddings(model_name='gpt-3.5-turbo'), index_name=mongodb_indexname\n",
    ")\n",
    "\n",
    "llm = ChatOpenAI(temperature=0, model_name='gpt-3.5-turbo')\n",
    "\n",
    "chain = RetrievalQAWithSourcesChain.from_chain_type(\n",
    "   llm=llm,\n",
    "   chain_type = 'stuff',\n",
    "   retriever=vectorStore.as_retriever(search_kwargs={'k':3}),\n",
    "   return_source_documents=True\n",
    ")\n"
   ]
  },
  {
   "cell_type": "code",
   "execution_count": 35,
   "id": "51cbfdad",
   "metadata": {},
   "outputs": [],
   "source": [
    "def ChatBot(question):\n",
    "    answer = chain(question)\n",
    "    print('Q. ' + answer['question'])\n",
    "    print('---------------------------------')\n",
    "    print('A. ' + answer['answer'])\n",
    "    print('source: ' + answer['sources'])\n",
    "    print('original content: ' + answer['source_documents'][0].page_content)"
   ]
  },
  {
   "cell_type": "code",
   "execution_count": 36,
   "id": "5aae97e7",
   "metadata": {},
   "outputs": [
    {
     "name": "stdout",
     "output_type": "stream",
     "text": [
      "Q. 자동차 사고시 대처요령에 대해서 자세히 설명해주세요\n",
      "---------------------------------\n",
      "A. 사고 시 대처 요령은 다음과 같습니다:\n",
      "1. 사고현장에서는 즉시 정차하고 사고를 확인해야 합니다.\n",
      "2. 부상자가 있는 경우, 부상 상태를 확인하고 응급 조치 후 구급차량을 호출해야 합니다.\n",
      "3. 정황증거를 확보하기 위해 사고현장을 사진촬영하고 사고장소 위치를 도로상에 표시해야 합니다. 또한 목격자의 정보를 확보해야 합니다.\n",
      "4. 사고차량을 안전한 장소로 이동시켜야 합니다.\n",
      "5. 필요한 긴급조치를 한 후에는 경찰서에 신고해야 합니다.\n",
      "\n",
      "source: ./samsunginsurance.pdf\n",
      "original content: 121. 자동차 사고 시 대처 요령\n",
      "⑴  사고현장 사고처리  \n",
      "사고현장에서 꼭 필요로 하는 적절한 대처요령을 사전에  \n",
      "확인하시기 바랍니다.Ⅴ . 가입자 유의사항 : 자동차사고 시 보상처리 절차\n",
      "1 즉시 정차\n",
      " · 어떤 사고라도 일단 정차한 후 사고 확인  \n",
      " · 피해차량이라도 일단 정차 후 사고 확인\n",
      "2 부상자 구호\n",
      " · 부상 상태 확인  \n",
      " ·  부상이 심할 경우 응급 조치 후 구급차량으로 후송\n",
      "3 정황증거 확보\n",
      " ·  사고현장을 여러 각도에서 사진촬영(핸드폰, 카메라 등)\n",
      " ·  사고장소 위치 등을 도로상 표시(스프레이, 페인트 등)\n",
      " ·  목격자 확보(인적사항, 연락처)\n",
      "4 안전한 장소로 사고차량 이동\n",
      " ·  정황증거확보 후 교통상황이 안전에 위협이 되는 경우 \n",
      "위험방지를 위해 가까운 길 가장자리나 안전한 장소로 \n",
      "차량을 이동하고 엔진을 완전히 정지시킨다.\n",
      "5 필요한 긴급조치 후 경찰서 신고\n",
      " ·  차량만 파손된 것이 분명하고 도로에서의 위험방지와 \n",
      "원활한 소통을 위하여 필요한 조치를 했을 때에는 반드시 \n",
      "신고할 필요는 없습니다.\n",
      " *  사고 현장에서 전문지식 없이 옳고 그름을 임의로 판단해서는 \n",
      "당사자 간에 감정의 골만 깊어지는 경우가 많으니 법률전문가의 \n",
      "도움을받거나 보험회사에 위임하는 것이 좋습니다.\n"
     ]
    }
   ],
   "source": [
    "ChatBot(\"자동차 사고시 대처요령에 대해서 자세히 설명해주세요\")"
   ]
  },
  {
   "cell_type": "code",
   "execution_count": 37,
   "id": "8494459c",
   "metadata": {},
   "outputs": [
    {
     "name": "stdout",
     "output_type": "stream",
     "text": [
      "Q. 긴급출동 서비스에 대해서 설명해줘\n",
      "---------------------------------\n",
      "A. 긴급출동 서비스는 외제차 및 전기차 운반비용 지원 특별약관에 가입한 경우에 제공됩니다. 이 서비스는 사고처리시 비용을 지원하고 긴급출동 서비스를 제공합니다. \n",
      "\n",
      "source: ./samsunginsurance.pdf\n",
      "original content: [45-2] 긴급견인서비스 확대 추가특별약관(전기차)  ……… 177\n",
      "   [45-3] 차량 진단 Door to Door 서비스 추가특별약관  ……… 177Ⅴ. 긴급출동 서비스\n",
      "[46] 보험료 분할납입 특별약관  …………………………………… 179\n",
      "[47] 신용카드 이용 보험료 납입 특별약관  ……………………… 180\n",
      "[48] 보험료 자동납입 특별약관  …………………………………… 180\n",
      "[49] 보험계약 자동갱신 특별약관  ………………………………… 182Ⅵ. 보험료 납입\n"
     ]
    }
   ],
   "source": [
    "ChatBot(\"긴급출동 서비스에 대해서 설명해줘\")"
   ]
  },
  {
   "cell_type": "code",
   "execution_count": 46,
   "id": "9b306c9a",
   "metadata": {},
   "outputs": [
    {
     "name": "stdout",
     "output_type": "stream",
     "text": [
      "Q. 사고시 보험금 지급절차에 대해서 알려줘\n",
      "---------------------------------\n",
      "A. 보험금의 지급절차에 대해서는 다음과 같습니다:\n",
      "1. 피보험자는 사고가 발생한 때 보험회사에 대하여 보험금의 지급을 청구할 수 있습니다.\n",
      "2. 피보험자가 보험금의 지급을 청구할 때에는 보험금청구서, 손해액을 증명하는 서류, 그 밖에 보험회사가 필요하다고 인정하는 서류 또는 증거를 제출하여야 합니다.\n",
      "3. 회사는 보험금 청구에 관한 서류를 받은 때부터 10일 이내에 결정하여 지급합니다.\n",
      "4. 회사가 보험금 지급사유의 조사 및 확인을 위하여 지급 기일을 초과할 것으로 예상되는 경우에는 구체적 사유와 지급 예정일을 피보험자에게 문서로 통지합니다.\n",
      "5. 회사가 지급 기일 내에 보험금을 지급하지 않았을 때에는 그 다음날부터 지급일까지의 기간에 대하여 보험개발원이 공시한 보험계약대출이율에 의한 이자를 보험금에 더하여 지급합니다. 단, 피보험자 또는 보험계약자에게 책임 있는 사유로 지급이 지연된 경우에는 해당 기간에 대한 이자는 지급하지 않습니다.\n",
      "\n",
      "source: ./samsunginsurance.pdf\n",
      "original content: ①  피보험자는 사고가 발생한 때 보험회사에 대하여 보험금의 지급을 \n",
      "청구할 수 있습니다.\n",
      "②  피보험자가 보험금의 지급을 청구할 때에는 보험금청구서, 손해액\n",
      "을 증명하는 서류, 그 밖에 보험회사가 꼭 필요하다고 인정하는 서류 \n",
      "또는 증거를 제출하여야 합니다.\n",
      "③  회사는 위 ‘②’에 정한 보험금 청구에 관한 서류를 받은 때부터 10일 \n",
      "이내에 결정하여 지급합니다.\n",
      "④  회사가 보험금 지급사유의 조사 및 확인을 위하여 위 ‘③’의 지급 기\n",
      "일 초과가 명백히 예상되는 경우에는 구체적 사유와 지급 예정일을 \n",
      "피보험자에게 문서로 통지하여 드립니다.\n",
      "⑤  회사는 위 ‘③’ 또는 ‘④’의 규정에서 정한 지급 기일 내에 보험금을 \n",
      "지급하지 아니하였을 때에는 그 다음날부터 지급일까지의 기간에 \n",
      "대하여 보험개발원이 공시한 보험계약대출이율에 의한 이자를 보험\n",
      "금에 더하여 드립니다. 그러나 피보험자 또는 보험계약자에게 책임 \n",
      "있는 사유로 지급이 지연된 때에 그 해당기간에 대한 이자는 더하여 \n",
      "드리지 아니합니다.\n",
      "*  비고운전가능자  제한 보상 확대 사고처리시  비용 긴급출동  서비스  .보험료  납입 친환경  상품 기타\n"
     ]
    }
   ],
   "source": [
    "ChatBot(\"사고시 보험금 지급절차에 대해서 알려줘\")"
   ]
  },
  {
   "cell_type": "markdown",
   "id": "324e7e9f",
   "metadata": {},
   "source": [
    "## prompt"
   ]
  },
  {
   "cell_type": "code",
   "execution_count": 39,
   "id": "c542a422",
   "metadata": {},
   "outputs": [],
   "source": [
    "from langchain.prompts.chat import (\n",
    "    ChatPromptTemplate,\n",
    "    SystemMessagePromptTemplate,\n",
    "    HumanMessagePromptTemplate,\n",
    ")\n",
    "\n",
    "system_template=\"\"\"Use the following pieces of context to answer the users question shortly.\n",
    "Given the following summaries of a long document and a question, create a final answer with references (\"SOURCES\"), use \"SOURCES\" in capital letters regardless of the number of sources.\n",
    "\n",
    "If you don't know the answer, just make it up by any means.\n",
    "\n",
    "----------------\n",
    "{summaries}\n",
    "\n",
    "You MUST answer in Korean and in Markdown format:\"\"\"\n",
    "\n",
    "messages = [\n",
    "    SystemMessagePromptTemplate.from_template(system_template),\n",
    "    HumanMessagePromptTemplate.from_template(\"{question}\")\n",
    "]\n",
    "\n",
    "prompt = ChatPromptTemplate.from_messages(messages)"
   ]
  },
  {
   "cell_type": "code",
   "execution_count": 40,
   "id": "16183667",
   "metadata": {},
   "outputs": [],
   "source": [
    "from pymongo import MongoClient\n",
    "from langchain.vectorstores import MongoDBAtlasVectorSearch\n",
    "from langchain.embeddings.openai import OpenAIEmbeddings\n",
    "from langchain.llms import OpenAI\n",
    "from langchain.chat_models import ChatOpenAI\n",
    "from langchain.chains import RetrievalQAWithSourcesChain\n",
    "from langchain.retrievers import ContextualCompressionRetriever\n",
    "from langchain.retrievers.document_compressors import LLMChainExtractor\n",
    "\n",
    "client = MongoClient(mongodb_connectionstring)\n",
    "collection = client[mongodb_dbname][mongodb_collname]\n",
    "\n",
    "vectorStore = MongoDBAtlasVectorSearch(\n",
    "    collection, OpenAIEmbeddings(), index_name=mongodb_indexname\n",
    ")\n",
    "\n",
    "chain_type_kwargs = {\"prompt\": prompt}\n",
    "llm = ChatOpenAI(temperature=0, model_name='gpt-3.5-turbo')\n",
    "\n",
    "chain = RetrievalQAWithSourcesChain.from_chain_type(\n",
    "   llm=llm,\n",
    "   chain_type = 'stuff',\n",
    "   retriever=vectorStore.as_retriever(search_kwargs={'k':3}),\n",
    "   return_source_documents=True,\n",
    "   chain_type_kwargs=chain_type_kwargs\n",
    ")"
   ]
  },
  {
   "cell_type": "code",
   "execution_count": 41,
   "id": "43a9da12",
   "metadata": {},
   "outputs": [
    {
     "name": "stdout",
     "output_type": "stream",
     "text": [
      "Q. 자동차 사고시 대처요령에 대해서 자세히 설명해주세요\n",
      "---------------------------------\n",
      "A. 자동차 사고 시 대처 요령은 다음과 같습니다:\n",
      "\n",
      "1. 즉시 정차: 어떤 사고라도 일단 정차한 후 사고를 확인해야 합니다. 피해차량이라도 일단 정차 후 사고를 확인해야 합니다.\n",
      "2. 부상자 구호: 부상 상태를 확인하고, 부상이 심할 경우 응급 조치 후 구급차량으로 후송해야 합니다.\n",
      "3. 정황증거 확보: 사고현장을 여러 각도에서 사진 촬영하고, 사고장소 위치 등을 도로상에 표시해야 합니다. 또한, 목격자의 인적사항과 연락처를 확보해야 합니다.\n",
      "4. 안전한 장소로 사고차량 이동: 정황증거 확보 후 교통상황이 안전에 위협이 되는 경우, 가까운 길 가장자리나 안전한 장소로 차량을 이동하고 엔진을 완전히 정지시켜야 합니다.\n",
      "5. 필요한 긴급조치 후 경찰서 신고: 차량만 파손된 것이 분명하고 도로에서의 위험방지와 원활한 소통을 위해 필요한 조치를 했을 때에는 반드시 신고할 필요는 없습니다. 하지만, 전문지식 없이 옳고 그름을 판단하는 것은 좋지 않으므로 법률전문가의 도움이나 보험회사에 위임하는 것이 좋습니다.\n",
      "\n",
      "이러한 대처 요령은 사고 현장에서의 대응을 원활하게 하고, 보험처리 절차를 수월하게 진행하기 위한 것입니다. 사고 시에는 안전을 최우선으로 생각하고, 필요한 조치를 취해야 합니다.\n",
      "\n",
      "[SOURCES](./samsunginsurance.pdf)\n",
      "source: \n",
      "original content: 121. 자동차 사고 시 대처 요령\n",
      "⑴  사고현장 사고처리  \n",
      "사고현장에서 꼭 필요로 하는 적절한 대처요령을 사전에  \n",
      "확인하시기 바랍니다.Ⅴ . 가입자 유의사항 : 자동차사고 시 보상처리 절차\n",
      "1 즉시 정차\n",
      " · 어떤 사고라도 일단 정차한 후 사고 확인  \n",
      " · 피해차량이라도 일단 정차 후 사고 확인\n",
      "2 부상자 구호\n",
      " · 부상 상태 확인  \n",
      " ·  부상이 심할 경우 응급 조치 후 구급차량으로 후송\n",
      "3 정황증거 확보\n",
      " ·  사고현장을 여러 각도에서 사진촬영(핸드폰, 카메라 등)\n",
      " ·  사고장소 위치 등을 도로상 표시(스프레이, 페인트 등)\n",
      " ·  목격자 확보(인적사항, 연락처)\n",
      "4 안전한 장소로 사고차량 이동\n",
      " ·  정황증거확보 후 교통상황이 안전에 위협이 되는 경우 \n",
      "위험방지를 위해 가까운 길 가장자리나 안전한 장소로 \n",
      "차량을 이동하고 엔진을 완전히 정지시킨다.\n",
      "5 필요한 긴급조치 후 경찰서 신고\n",
      " ·  차량만 파손된 것이 분명하고 도로에서의 위험방지와 \n",
      "원활한 소통을 위하여 필요한 조치를 했을 때에는 반드시 \n",
      "신고할 필요는 없습니다.\n",
      " *  사고 현장에서 전문지식 없이 옳고 그름을 임의로 판단해서는 \n",
      "당사자 간에 감정의 골만 깊어지는 경우가 많으니 법률전문가의 \n",
      "도움을받거나 보험회사에 위임하는 것이 좋습니다.\n"
     ]
    }
   ],
   "source": [
    "ChatBot(\"자동차 사고시 대처요령에 대해서 자세히 설명해주세요\")"
   ]
  },
  {
   "cell_type": "code",
   "execution_count": 42,
   "id": "636c4d41",
   "metadata": {},
   "outputs": [
    {
     "name": "stdout",
     "output_type": "stream",
     "text": [
      "Q. 긴급출동 서비스에 대해서 설명해줘\n",
      "---------------------------------\n",
      "A. 긴급출동 서비스는 삼성화재에서 제공하는 서비스 중 하나입니다. 이 서비스는 차량이 고장이나 사고로 인해 긴급한 도움이 필요한 상황에서 도움을 받을 수 있도록 도와줍니다. 긴급출동 서비스에는 긴급견인서비스와 긴급출동진단서비스가 포함되어 있습니다.\n",
      "\n",
      "긴급견인서비스는 차량이 고장이나 사고로 인해 움직일 수 없는 상황에서 차량을 견인해주는 서비스입니다. 이 서비스를 통해 차량을 안전하게 정비소로 이동시킬 수 있습니다.\n",
      "\n",
      "긴급출동진단서비스는 차량이 고장이나 사고로 인해 도움이 필요한 경우, 전문 기사가 차량에 진단을 실시하여 문제를 파악하고 적절한 조치를 취해줍니다. 이를 통해 차량의 고장을 빠르게 해결할 수 있습니다.\n",
      "\n",
      "긴급출동 서비스는 삼성화재의 특별약관에 따라 제공되며, 자세한 내용은 해당 특별약관을 참고하시기 바랍니다. [45-2]와 [45-3]의 내용을 확인하시면 더 자세한 정보를 얻을 수 있습니다. (SOURCES)\n",
      "source: \n",
      "original content: [45-2] 긴급견인서비스 확대 추가특별약관(전기차)  ……… 177\n",
      "   [45-3] 차량 진단 Door to Door 서비스 추가특별약관  ……… 177Ⅴ. 긴급출동 서비스\n",
      "[46] 보험료 분할납입 특별약관  …………………………………… 179\n",
      "[47] 신용카드 이용 보험료 납입 특별약관  ……………………… 180\n",
      "[48] 보험료 자동납입 특별약관  …………………………………… 180\n",
      "[49] 보험계약 자동갱신 특별약관  ………………………………… 182Ⅵ. 보험료 납입\n"
     ]
    }
   ],
   "source": [
    "ChatBot(\"긴급출동 서비스에 대해서 설명해줘\")"
   ]
  },
  {
   "cell_type": "code",
   "execution_count": 44,
   "id": "33cb3e27",
   "metadata": {},
   "outputs": [
    {
     "name": "stdout",
     "output_type": "stream",
     "text": [
      "Q. 사고시 보험금 지급절차에 대해서 알려줘\n",
      "---------------------------------\n",
      "A. 보험금 지급 절차는 다음과 같습니다:\n",
      "\n",
      "1. 피보험자는 사고 발생 시 보험회사에 보험금 지급을 청구할 수 있습니다.\n",
      "2. 보험금 지급을 청구할 때에는 보험금 청구서, 손해액을 증명하는 서류, 그 외 보험회사가 필요하다고 인정하는 서류나 증거를 제출해야 합니다.\n",
      "3. 보험회사는 위의 서류를 받은 후 10일 이내에 결정하여 보험금을 지급합니다.\n",
      "4. 만약 보험회사가 보험금 지급 사유를 조사하고 확인하기 위해 10일 이내에 지급 기일을 초과할 것으로 예상되는 경우, 구체적인 사유와 지급 예정일을 피보험자에게 문서로 통지합니다.\n",
      "5. 보험회사는 위의 규정에서 정한 지급 기일 내에 보험금을 지급하지 않았을 경우, 다음 날부터 지급일까지의 기간에 보험개발원이 공시한 보험계약 대출 이율에 의한 이자를 보험금에 추가로 지급합니다. 단, 피보험자나 보험계약자에게 책임 있는 사유로 지급이 지연된 경우에는 해당 기간에 대한 이자는 추가로 지급하지 않습니다.\n",
      "\n",
      "이와 관련된 자세한 내용은 해당 보험 계약서를 참조하시기 바랍니다. [^1^]\n",
      "\n",
      "[SOURCES]\n",
      "[^1^]: ./samsunginsurance.pdf\n",
      "source: \n",
      "original content: ①  피보험자는 사고가 발생한 때 보험회사에 대하여 보험금의 지급을 \n",
      "청구할 수 있습니다.\n",
      "②  피보험자가 보험금의 지급을 청구할 때에는 보험금청구서, 손해액\n",
      "을 증명하는 서류, 그 밖에 보험회사가 꼭 필요하다고 인정하는 서류 \n",
      "또는 증거를 제출하여야 합니다.\n",
      "③  회사는 위 ‘②’에 정한 보험금 청구에 관한 서류를 받은 때부터 10일 \n",
      "이내에 결정하여 지급합니다.\n",
      "④  회사가 보험금 지급사유의 조사 및 확인을 위하여 위 ‘③’의 지급 기\n",
      "일 초과가 명백히 예상되는 경우에는 구체적 사유와 지급 예정일을 \n",
      "피보험자에게 문서로 통지하여 드립니다.\n",
      "⑤  회사는 위 ‘③’ 또는 ‘④’의 규정에서 정한 지급 기일 내에 보험금을 \n",
      "지급하지 아니하였을 때에는 그 다음날부터 지급일까지의 기간에 \n",
      "대하여 보험개발원이 공시한 보험계약대출이율에 의한 이자를 보험\n",
      "금에 더하여 드립니다. 그러나 피보험자 또는 보험계약자에게 책임 \n",
      "있는 사유로 지급이 지연된 때에 그 해당기간에 대한 이자는 더하여 \n",
      "드리지 아니합니다.\n",
      "*  비고운전가능자  제한 보상 확대 사고처리시  비용 긴급출동  서비스  .보험료  납입 친환경  상품 기타\n"
     ]
    }
   ],
   "source": [
    "ChatBot(\"사고시 보험금 지급절차에 대해서 알려줘\")"
   ]
  },
  {
   "cell_type": "code",
   "execution_count": null,
   "id": "58464402",
   "metadata": {},
   "outputs": [],
   "source": []
  }
 ],
 "metadata": {
  "kernelspec": {
   "display_name": "Python 3 (ipykernel)",
   "language": "python",
   "name": "python3"
  },
  "language_info": {
   "codemirror_mode": {
    "name": "ipython",
    "version": 3
   },
   "file_extension": ".py",
   "mimetype": "text/x-python",
   "name": "python",
   "nbconvert_exporter": "python",
   "pygments_lexer": "ipython3",
   "version": "3.9.13"
  }
 },
 "nbformat": 4,
 "nbformat_minor": 5
}
